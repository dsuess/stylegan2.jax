{
  "nbformat": 4,
  "nbformat_minor": 0,
  "metadata": {
    "accelerator": "GPU",
    "colab": {
      "name": "Train Example.ipynb",
      "private_outputs": true,
      "provenance": [],
      "include_colab_link": true
    },
    "kernelspec": {
      "display_name": "stylegan2.jax",
      "language": "python",
      "name": "stylegan2.jax"
    },
    "language_info": {
      "codemirror_mode": {
        "name": "ipython",
        "version": 3
      },
      "file_extension": ".py",
      "mimetype": "text/x-python",
      "name": "python",
      "nbconvert_exporter": "python",
      "pygments_lexer": "ipython3",
      "version": "3.8.7"
    },
    "varInspector": {
      "cols": {
        "lenName": 16,
        "lenType": 16,
        "lenVar": 40
      },
      "kernels_config": {
        "python": {
          "delete_cmd_postfix": "",
          "delete_cmd_prefix": "del ",
          "library": "var_list.py",
          "varRefreshCmd": "print(var_dic_list())"
        },
        "r": {
          "delete_cmd_postfix": ") ",
          "delete_cmd_prefix": "rm(",
          "library": "var_list.r",
          "varRefreshCmd": "cat(var_dic_list()) "
        }
      },
      "types_to_exclude": [
        "module",
        "function",
        "builtin_function_or_method",
        "instance",
        "_Feature"
      ],
      "window_display": false
    }
  },
  "cells": [
    {
      "cell_type": "markdown",
      "metadata": {
        "id": "view-in-github",
        "colab_type": "text"
      },
      "source": [
        "<a href=\"https://colab.research.google.com/github/dsuess/stylegan2.jax/blob/master/notebooks/Train%20Example.ipynb\" target=\"_parent\"><img src=\"https://colab.research.google.com/assets/colab-badge.svg\" alt=\"Open In Colab\"/></a>"
      ]
    },
    {
      "cell_type": "code",
      "metadata": {
        "id": "M3h41If4iTpV"
      },
      "source": [
        "!rm -r stylegan2.jax\n",
        "!git clone https://github.com/dsuess/stylegan2.jax\n",
        "!pip install stylegan2.jax/\n",
        "!pip install --upgrade jax"
      ],
      "execution_count": null,
      "outputs": []
    },
    {
      "cell_type": "code",
      "metadata": {
        "id": "_qfOyTYNhWZx"
      },
      "source": [
        "from jax.tools import colab_tpu\n",
        "\n",
        "try:\n",
        "    colab_tpu.setup_tpu()\n",
        "except KeyError:\n",
        "    pass"
      ],
      "execution_count": null,
      "outputs": []
    },
    {
      "cell_type": "code",
      "metadata": {
        "id": "NxTO3VwAjaCS"
      },
      "source": [
        "import tensorflow_datasets as tfds\n",
        "import jax \n",
        "import functools as ft\n",
        "import optax\n",
        "import haiku as hk\n",
        "import numpy as np\n",
        "\n",
        "from collections import namedtuple\n",
        "from jax import numpy as jnp\n",
        "from stylegan2.train import setup_models, initialize_params, GAN\n",
        "from tqdm import tqdm\n",
        "from stylegan2 import networks as nx\n",
        "from haiku._src.data_structures import frozendict\n",
        "from matplotlib import pyplot as pl"
      ],
      "execution_count": null,
      "outputs": []
    },
    {
      "cell_type": "code",
      "metadata": {
        "id": "Sc1_UmWwwoRC"
      },
      "source": [
        "jax.device_count()"
      ],
      "execution_count": null,
      "outputs": []
    },
    {
      "cell_type": "code",
      "metadata": {
        "id": "5CEFjYhMhLtQ"
      },
      "source": [
        "def Components(g, d, s):\n",
        "    return frozendict(g=g, d=d, s=s)\n",
        "\n",
        "class StyleGan2:\n",
        "    def __init__(self):\n",
        "        self.batch_size = 64\n",
        "        self.models = Components(\n",
        "            hk.transform(\n",
        "                lambda latents: nx.SkipGenerator(32, max_hidden_feature_size=128)(latents)\n",
        "            ),\n",
        "            hk.without_apply_rng(\n",
        "                hk.transform(\n",
        "                    lambda images: nx.ResidualDiscriminator(\n",
        "                        32, max_hidden_feature_size=128\n",
        "                    )(images)\n",
        "                )\n",
        "            ),\n",
        "            hk.without_apply_rng(\n",
        "                hk.transform(\n",
        "                    lambda latents: nx.style_embedding_network(\n",
        "                        final_embedding_size=128, intermediate_latent_size=128\n",
        "                    )(latents)\n",
        "                )\n",
        "            ),\n",
        "        )\n",
        "\n",
        "        self.optim = optax.sgd(0.02, momentum=0.9)\n",
        "        \n",
        "    def initialize_params(self, rng):\n",
        "        rngs = Components(*jax.random.split(rng, num=3))\n",
        "\n",
        "        latents = jnp.zeros((self.batch_size, 32), dtype=jnp.float32)\n",
        "        params_s = self.models.s.init(rngs.s, latents)\n",
        "\n",
        "        styles = self.models.s.apply(params_s, latents)\n",
        "        styles = jnp.tile(styles[:, None, :], (1, 8, 1))\n",
        "        params_g = self.models.g.init(rngs.g, styles)\n",
        "\n",
        "        images = self.models.g.apply(params_g, rngs.g, styles)\n",
        "        params_d = self.models.d.init(rngs.d, images)\n",
        "\n",
        "        model_state = Components(params_g, params_d, params_s)\n",
        "        optim_state = Components(\n",
        "            **{name: self.optim.init(params) for name, params in model_state.items()}\n",
        "        )\n",
        "\n",
        "        return model_state, optim_state\n",
        "\n",
        "    @ft.partial(jax.jit, static_argnums=[0, 2])\n",
        "    def generate_images(self, model_state, num_images, rng):\n",
        "        latents = jax.random.normal(rng, (num_images, 32))\n",
        "        styles = self.models.s.apply(model_state.s, latents)\n",
        "        styles = jnp.tile(styles[:, None], (1, 8, 1))\n",
        "        return self.models.g.apply(model_state.g, rng, styles)\n",
        "    \n",
        "    def discriminator_loss(self, model_state, images, rng):\n",
        "        fake_images = self.generate_images(model_state, self.batch_size, rng)\n",
        "        logits = self.models.d.apply(model_state.d, fake_images)\n",
        "        fake_loss = jnp.maximum(logits, 0) + jnp.log(1 + jnp.exp(-jnp.abs(logits)))\n",
        "        fake_loss = jnp.mean(fake_loss)\n",
        "\n",
        "        logits = self.models.d.apply(model_state.d, images)\n",
        "        real_loss = jnp.maximum(logits, 0) - logits + jnp.log(1 + jnp.exp(-jnp.abs(logits)))\n",
        "        real_loss = jnp.mean(real_loss)\n",
        "\n",
        "        return (fake_loss + real_loss) / 2\n",
        "    \n",
        "    @ft.partial(jax.jit, static_argnums=[0])\n",
        "    def discriminator_step(self, model_state, optim_state, images, rng):\n",
        "        val, grads = jax.value_and_grad(self.discriminator_loss)(model_state, images, rng)\n",
        "        update_d, opt_state_d = self.optim.update(grads.d, optim_state.d)\n",
        "        state_d = optax.apply_updates(model_state.d, update_d)\n",
        "\n",
        "        model = Components(model_state.g, state_d, model_state.s)\n",
        "        optim = Components(optim_state.g, opt_state_d, optim_state.s)\n",
        "        return val, model, optim\n",
        "    \n",
        "    def generator_loss(self, model_state, images, rng):\n",
        "        fake_images = self.generate_images(model_state, self.batch_size, rng)\n",
        "        logits = self.models.d.apply(model_state.d, fake_images)\n",
        "\n",
        "        # Numerical stable implementation of sparse binary cross entropy\n",
        "        loss = jnp.maximum(logits, 0) - logits + jnp.log(1 + jnp.exp(-jnp.abs(logits)))\n",
        "        return jnp.mean(loss)\n",
        "    \n",
        "    @ft.partial(jax.jit, static_argnums=[0])\n",
        "    def generator_step(self, model_state, optim_state, images, rng):\n",
        "        val, grads = jax.value_and_grad(self.generator_loss)(model_state, images, rng)\n",
        "        update_g, opt_state_g = self.optim.update(grads.g, optim_state.g)\n",
        "        state_g = optax.apply_updates(model_state.g, update_g)\n",
        "\n",
        "        update_s, opt_state_s = self.optim.update(grads.s, optim_state.s)\n",
        "        state_s = optax.apply_updates(model_state.s, update_s)\n",
        "\n",
        "        model = Components(state_g, model_state.d, state_s)\n",
        "        optim = Components(opt_state_g, optim_state.d, opt_state_s)\n",
        "        return val, model, optim\n",
        "    \n",
        "    \n",
        "model = StyleGan2()\n",
        "key = jax.random.PRNGKey(0)\n",
        "state, optim_state = model.initialize_params(key)\n",
        "#model.generate_images(state, 16, key)"
      ],
      "execution_count": null,
      "outputs": []
    },
    {
      "cell_type": "code",
      "metadata": {
        "id": "Hz89m9Gljyaq"
      },
      "source": [
        "def display(imgs):\n",
        "    imgs = np.transpose(imgs, (1, 0, 2, 3)).reshape((32, -1, 3))\n",
        "    pl.imshow(imgs, cmap=\"gray\")\n",
        "    pl.show()\n",
        "\n",
        "\n",
        "data = tfds.load(\"cifar10\", split=\"train\")\n",
        "data = (\n",
        "    data.map(lambda x: x[\"image\"] / 255)\n",
        "    .repeat()\n",
        "    .take(2 ** 14)\n",
        "    .shuffle(1024)\n",
        "    .batch(model.batch_size)\n",
        ")\n",
        "\n",
        "rngkey, rnginit = jax.random.split(jax.random.PRNGKey(42))\n",
        "#num_devices = jax.device_count()\n",
        "#state = initialize_params(rnginit, trainer, 1)\n",
        "#state = jax.tree_util.tree_map(lambda x: jnp.stack([x] * num_devices), state)\n",
        "\n",
        "for epoch in range(10):\n",
        "    status = tqdm(data.as_numpy_iterator(), total=2 ** 14 // model.batch_size)\n",
        "    for images in status:\n",
        "        #pimages = images.reshape((jax.device_count(), -1, *images.shape[1:]))\n",
        "        rngkey, rngdisc, rnggen = jax.random.split(rngkey, num=3)\n",
        "        #rng = jax.random.split(rngkey, num=num_devices)\n",
        "        #loss = jax.pmap(discriminator_loss)(trainer.model, rngkey, state.model, images)\n",
        "        loss_d, state, optim_state = model.discriminator_step(state, optim_state, images, rngdisc)\n",
        "        loss_g, state, optim_state = model.generator_step(state, optim_state, images, rngdisc)\n",
        "      \n",
        "        #step_fn = ft.partial(generator_step, trainer, state, rnggen)\n",
        "        #disc_loss, state = jax.pmap(step_fn)(images)\n",
        "\n",
        "        status.set_description(f\"gen_loss={loss_g}, disc_loss={loss_d}\")\n",
        "    imgs = np.array(model.generate_images(state, 10, key))\n",
        "    display(imgs)\n"
      ],
      "execution_count": null,
      "outputs": []
    },
    {
      "cell_type": "code",
      "metadata": {
        "id": "cCgT_zZbi334"
      },
      "source": [
        "def display(imgs):\n",
        "    imgs = np.transpose(imgs, (1, 0, 2, 3)).reshape((32, -1, 3))\n",
        "    pl.imshow(imgs, cmap=\"gray\")\n",
        "    pl.show()\n",
        "\n",
        "imgs = np.array(model.generate_images(state, 10, key))\n",
        "display(imgs)"
      ],
      "execution_count": null,
      "outputs": []
    },
    {
      "cell_type": "code",
      "metadata": {
        "id": "lcvD3-gQp9B2"
      },
      "source": [
        "imgs[0] - imgs[1]"
      ],
      "execution_count": null,
      "outputs": []
    },
    {
      "cell_type": "code",
      "metadata": {
        "id": "ghDTWL56qAbi"
      },
      "source": [
        ""
      ],
      "execution_count": null,
      "outputs": []
    }
  ]
}