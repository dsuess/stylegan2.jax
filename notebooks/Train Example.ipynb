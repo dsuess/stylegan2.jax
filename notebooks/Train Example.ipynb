{
  "nbformat": 4,
  "nbformat_minor": 0,
  "metadata": {
    "colab": {
      "name": "Train Example.ipynb",
      "private_outputs": true,
      "provenance": [],
      "authorship_tag": "ABX9TyNMtnxfJF4ABlc4PIotDvVe",
      "include_colab_link": true
    },
    "kernelspec": {
      "name": "python3",
      "display_name": "Python 3"
    },
    "accelerator": "TPU"
  },
  "cells": [
    {
      "cell_type": "markdown",
      "metadata": {
        "id": "view-in-github",
        "colab_type": "text"
      },
      "source": [
        "<a href=\"https://colab.research.google.com/github/dsuess/stylegan2.jax/blob/master/notebooks/Train%20Example.ipynb\" target=\"_parent\"><img src=\"https://colab.research.google.com/assets/colab-badge.svg\" alt=\"Open In Colab\"/></a>"
      ]
    },
    {
      "cell_type": "code",
      "metadata": {
        "id": "M3h41If4iTpV"
      },
      "source": [
        "!rm -r stylegan2.jax\n",
        "!git clone https://github.com/dsuess/stylegan2.jax\n",
        "!pip install stylegan2.jax/"
      ],
      "execution_count": null,
      "outputs": []
    },
    {
      "cell_type": "code",
      "metadata": {
        "id": "N2HTGNdwwR8r"
      },
      "source": [
        "# Make sure the Colab Runtime is set to Accelerator: TPU.\n",
        "import requests\n",
        "import os\n",
        "if 'TPU_DRIVER_MODE' not in globals():\n",
        "  url = 'http://' + os.environ['COLAB_TPU_ADDR'].split(':')[0] + ':8475/requestversion/tpu_driver0.1-dev20191206'\n",
        "  resp = requests.post(url)\n",
        "  TPU_DRIVER_MODE = 1\n",
        "\n",
        "# The following is required to use TPU Driver as JAX's backend.\n",
        "from jax.config import config\n",
        "config.FLAGS.jax_xla_backend = \"tpu_driver\"\n",
        "config.FLAGS.jax_backend_target = \"grpc://\" + os.environ['COLAB_TPU_ADDR']\n",
        "print(config.FLAGS.jax_backend_target)"
      ],
      "execution_count": null,
      "outputs": []
    },
    {
      "cell_type": "code",
      "metadata": {
        "id": "NxTO3VwAjaCS"
      },
      "source": [
        "import tensorflow_datasets as tfds\n",
        "import jax \n",
        "import functools as ft\n",
        "\n",
        "from jax import numpy as jnp\n",
        "from stylegan2.train import setup_models, initialize_params, GAN\n",
        "from tqdm import tqdm"
      ],
      "execution_count": null,
      "outputs": []
    },
    {
      "cell_type": "code",
      "metadata": {
        "id": "Sc1_UmWwwoRC"
      },
      "source": [
        "jax.device_count()"
      ],
      "execution_count": null,
      "outputs": []
    },
    {
      "cell_type": "code",
      "metadata": {
        "id": "6sMPlnT11n6j"
      },
      "source": [
        "@ft.partial(jax.jit, static_argnums=[0])\n",
        "def discriminator_loss(model, rng, model_state, images):\n",
        "    latents = jax.random.normal(rng, (images.shape[0], 32))\n",
        "    styles = model.s.apply(model_state.s, latents)\n",
        "    styles = jnp.tile(styles[:, None], (1, 8, 1))\n",
        "\n",
        "    fake_images = model.g.apply(model_state.g, rng, styles)\n",
        "    logits = model.d.apply(model_state.d, fake_images)\n",
        "    fake_loss = jnp.maximum(logits, 0) + jnp.log(1 + jnp.exp(-jnp.abs(logits)))\n",
        "    fake_loss = jnp.mean(fake_loss)\n",
        "\n",
        "    logits = model.d.apply(model_state.d, images)\n",
        "    real_loss = jnp.maximum(logits, 0) - logits + jnp.log(1 + jnp.exp(-jnp.abs(logits)))\n",
        "    real_loss = jnp.mean(real_loss)\n",
        "\n",
        "    return fake_loss + real_loss"
      ],
      "execution_count": null,
      "outputs": []
    },
    {
      "cell_type": "code",
      "metadata": {
        "id": "Hz89m9Gljyaq"
      },
      "source": [
        "data = tfds.load(\"cifar10\", split=\"train\")\n",
        "batch_size = 64\n",
        "data = (\n",
        "    data.map(lambda x: x[\"image\"] / 255)\n",
        "    .repeat()\n",
        "    .take(2 ** 14)\n",
        "    .shuffle(1024)\n",
        "    .batch(batch_size)\n",
        ")\n",
        "\n",
        "rngkey, rnginit = jax.random.split(jax.random.PRNGKey(42))\n",
        "trainer = setup_models()\n",
        "num_devices = jax.device_count()\n",
        "state = initialize_params(rnginit, trainer, 1)\n",
        "state = jax.tree_util.tree_map(lambda x: jnp.stack([x] * num_devices), state)\n",
        "\n",
        "for epoch in range(10):\n",
        "    for images in tqdm(data.as_numpy_iterator(), total=2 ** 14 // batch_size):\n",
        "        pimages = images.reshape((jax.device_count(), -1, *images.shape[1:]))\n",
        "        #rngkey, rngdisc, rnggen = jax.random.split(rngkey, num=3)\n",
        "        rng = jax.random.split(rngkey, num=num_devices)\n",
        "        loss = jax.pmap(discriminator_loss)(trainer.model, rngkey, state.model, images)\n",
        "      \n",
        "        #step_fn = ft.partial(generator_step, trainer, state, rnggen)\n",
        "        #disc_loss, state = jax.pmap(step_fn)(images)\n",
        "\n",
        "        #print(f\"gen_loss={gen_loss}, disc_loss={disc_loss}\")\n",
        "        print(loss)\n"
      ],
      "execution_count": null,
      "outputs": []
    },
    {
      "cell_type": "code",
      "metadata": {
        "id": "JZvsrnwekcjq"
      },
      "source": [
        "images = next(data.as_numpy_iterator())\n",
        "fn = ft.partial(trainer.model.d.apply, state.model.d)\n",
        "pfn = jax.pmap(fn)\n",
        "pimages = images.reshape((jax.device_count(), -1, *images.shape[1:]))"
      ],
      "execution_count": null,
      "outputs": []
    },
    {
      "cell_type": "code",
      "metadata": {
        "id": "GLyskYaJyq7m"
      },
      "source": [
        "%%timeit\n",
        "pfn(pimages)"
      ],
      "execution_count": null,
      "outputs": []
    },
    {
      "cell_type": "code",
      "metadata": {
        "id": "W1Tvh4FOy62U"
      },
      "source": [
        "%%timeit\n",
        "fn(images)"
      ],
      "execution_count": null,
      "outputs": []
    },
    {
      "cell_type": "code",
      "metadata": {
        "id": "hyfRcuSez6K4"
      },
      "source": [
        "state.model"
      ],
      "execution_count": null,
      "outputs": []
    },
    {
      "cell_type": "code",
      "metadata": {
        "id": "rCYWkk-u5xC6"
      },
      "source": [
        ""
      ],
      "execution_count": null,
      "outputs": []
    }
  ]
}