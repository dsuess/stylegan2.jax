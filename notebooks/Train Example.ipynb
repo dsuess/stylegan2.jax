{
 "cells": [
  {
   "cell_type": "markdown",
   "metadata": {
    "colab_type": "text",
    "id": "view-in-github"
   },
   "source": [
    "<a href=\"https://colab.research.google.com/github/dsuess/stylegan2.jax/blob/master/notebooks/Train%20Example.ipynb\" target=\"_parent\"><img src=\"https://colab.research.google.com/assets/colab-badge.svg\" alt=\"Open In Colab\"/></a>"
   ]
  },
  {
   "cell_type": "code",
   "execution_count": null,
   "metadata": {
    "id": "M3h41If4iTpV"
   },
   "outputs": [],
   "source": [
    "!rm -r stylegan2.jax\n",
    "!git clone https://github.com/dsuess/stylegan2.jax\n",
    "!pip install stylegan2.jax/"
   ]
  },
  {
   "cell_type": "code",
   "execution_count": null,
   "metadata": {
    "id": "N2HTGNdwwR8r"
   },
   "outputs": [],
   "source": [
    "# Make sure the Colab Runtime is set to Accelerator: TPU.\n",
    "import requests\n",
    "import os\n",
    "if 'TPU_DRIVER_MODE' not in globals():\n",
    "  url = 'http://' + os.environ['COLAB_TPU_ADDR'].split(':')[0] + ':8475/requestversion/tpu_driver0.1-dev20191206'\n",
    "  resp = requests.post(url)\n",
    "  TPU_DRIVER_MODE = 1\n",
    "\n",
    "# The following is required to use TPU Driver as JAX's backend.\n",
    "from jax.config import config\n",
    "config.FLAGS.jax_xla_backend = \"tpu_driver\"\n",
    "config.FLAGS.jax_backend_target = \"grpc://\" + os.environ['COLAB_TPU_ADDR']\n",
    "print(config.FLAGS.jax_backend_target)"
   ]
  },
  {
   "cell_type": "code",
   "execution_count": null,
   "metadata": {
    "id": "NxTO3VwAjaCS"
   },
   "outputs": [],
   "source": [
    "import tensorflow_datasets as tfds\n",
    "import jax \n",
    "import functools as ft\n",
    "import optax\n",
    "import haiku as hk\n",
    "\n",
    "from collections import namedtuple\n",
    "from jax import numpy as jnp\n",
    "from stylegan2.train import setup_models, initialize_params, GAN\n",
    "from tqdm import tqdm\n",
    "from stylegan2 import networks as nx\n",
    "from haiku._src.data_structures import frozendict"
   ]
  },
  {
   "cell_type": "code",
   "execution_count": null,
   "metadata": {
    "id": "Sc1_UmWwwoRC"
   },
   "outputs": [],
   "source": [
    "jax.device_count()"
   ]
  },
  {
   "cell_type": "code",
   "execution_count": null,
   "metadata": {},
   "outputs": [],
   "source": [
    "def Components(g, d, s):\n",
    "    return frozendict(g=g, d=d, s=s)\n",
    "\n",
    "class StyleGan2:\n",
    "    def __init__(self):\n",
    "        self.batch_size = 4\n",
    "        self.models = Components(\n",
    "            hk.transform(\n",
    "                lambda latents: nx.SkipGenerator(32, max_hidden_feature_size=128)(latents)\n",
    "            ),\n",
    "            hk.without_apply_rng(\n",
    "                hk.transform(\n",
    "                    lambda images: nx.ResidualDiscriminator(\n",
    "                        32, max_hidden_feature_size=128\n",
    "                    )(images)\n",
    "                )\n",
    "            ),\n",
    "            hk.without_apply_rng(\n",
    "                hk.transform(\n",
    "                    lambda latents: nx.style_embedding_network(\n",
    "                        final_embedding_size=128, intermediate_latent_size=128\n",
    "                    )(latents)\n",
    "                )\n",
    "            ),\n",
    "        )\n",
    "\n",
    "        self.optim = optax.sgd(0.01, momentum=0.9)\n",
    "        \n",
    "    def initialize_params(self, rng):\n",
    "        rngs = Components(*jax.random.split(rng, num=3))\n",
    "\n",
    "        latents = jnp.zeros((self.batch_size, 32), dtype=jnp.float32)\n",
    "        params_s = self.models.s.init(rngs.s, latents)\n",
    "\n",
    "        styles = self.models.s.apply(params_s, latents)\n",
    "        styles = jnp.tile(styles[:, None, :], (1, 8, 1))\n",
    "        params_g = self.models.g.init(rngs.g, styles)\n",
    "\n",
    "        images = self.models.g.apply(params_g, rngs.g, styles)\n",
    "        params_d = self.models.d.init(rngs.d, images)\n",
    "\n",
    "        model_state = Components(params_g, params_d, params_s)\n",
    "        optim_state = Components(\n",
    "            **{name: self.optim.init(params) for name, params in model_state.items()}\n",
    "        )\n",
    "\n",
    "        return model_state, optim_state\n",
    "    \n",
    "    def discriminator_loss(self, model_state, images, rng):\n",
    "        latents = jax.random.normal(rng, (images.shape[0], 32))\n",
    "        styles = self.models.s.apply(model_state.s, latents)\n",
    "        styles = jnp.tile(styles[:, None], (1, 8, 1))\n",
    "\n",
    "        fake_images = self.models.g.apply(model_state.g, rng, styles)\n",
    "        logits = self.models.d.apply(model_state.d, fake_images)\n",
    "        fake_loss = jnp.maximum(logits, 0) + jnp.log(1 + jnp.exp(-jnp.abs(logits)))\n",
    "        fake_loss = jnp.mean(fake_loss)\n",
    "\n",
    "        logits = self.models.d.apply(model_state.d, images)\n",
    "        real_loss = jnp.maximum(logits, 0) - logits + jnp.log(1 + jnp.exp(-jnp.abs(logits)))\n",
    "        real_loss = jnp.mean(real_loss)\n",
    "\n",
    "        return (fake_loss + real_loss) / 2\n",
    "    \n",
    "    @ft.partial(jax.jit, static_argnums=[0])\n",
    "    def discriminator_step(self, model_state, optim_state, images, rng):\n",
    "        val, grads = jax.value_and_grad(self.discriminator_loss)(model_state, images, rng)\n",
    "        update_d, opt_state_d = self.optim.update(grads.d, optim_state.d)\n",
    "        state_d = optax.apply_updates(model_state.d, update_d)\n",
    "\n",
    "        model = Components(model_state.g, state_d, model_state.s)\n",
    "        optim = Components(optim_state.g, opt_state_d, optim_state.s)\n",
    "        return val, model, optim\n",
    "    \n",
    "    \n",
    "    def generator_loss(self, model_state, images, rng):\n",
    "        latents = jax.random.normal(rng, (images.shape[0], 32))\n",
    "        styles = self.models.s.apply(model_state.s, latents)\n",
    "        styles = jnp.tile(styles[:, None], (1, 8, 1))\n",
    "\n",
    "        fake_images = self.models.g.apply(model_state.g, rng, styles)\n",
    "        logits = self.models.d.apply(model_state.d, fake_images)\n",
    "\n",
    "        # Numerical stable implementation of sparse binary cross entropy\n",
    "        loss = jnp.maximum(logits, 0) - logits + jnp.log(1 + jnp.exp(-jnp.abs(logits)))\n",
    "        return jnp.mean(loss)\n",
    "    \n",
    "    @ft.partial(jax.jit, static_argnums=[0])\n",
    "    def generator_step(self, model_state, optim_state, images, rng):\n",
    "        val, grads = jax.value_and_grad(self.generator_loss)(model_state, images, rng)\n",
    "        update_g, opt_state_g = self.optim.update(grads.g, optim_state.g)\n",
    "        state_g = optax.apply_updates(model_state.g, update_g)\n",
    "\n",
    "        update_s, opt_state_s = self.optim.update(grads.s, optim_state.s)\n",
    "        state_s = optax.apply_updates(model_state.s, update_s)\n",
    "\n",
    "        model = Components(state_g, model_state.d, state_s)\n",
    "        optim = Components(opt_state_g, optim_state.d, opt_state_s)\n",
    "        return val, model, optim\n",
    "    \n",
    "    \n",
    "model = StyleGan2()\n",
    "key = jax.random.PRNGKey(0)\n",
    "state, optim_state = model.initialize_params(key)\n",
    "\n",
    "images = jnp.zeros((model.batch_size, 32, 32, 3), dtype=jnp.float32)\n",
    "model.generator_step(state, optim_state, images, key)\n",
    "model.discriminator_step(state, optim_state, images, key)\n",
    "\n",
    "print(\"DONE\")"
   ]
  },
  {
   "cell_type": "code",
   "execution_count": null,
   "metadata": {},
   "outputs": [],
   "source": [
    "%%timeit \n",
    "model.discriminator_step(state, optim_state, images, key)"
   ]
  },
  {
   "cell_type": "code",
   "execution_count": null,
   "metadata": {},
   "outputs": [],
   "source": [
    "fun = jax.jit(model.discriminator_loss, static_argnums=[0])"
   ]
  },
  {
   "cell_type": "code",
   "execution_count": null,
   "metadata": {},
   "outputs": [],
   "source": [
    "%%timeit \n",
    "fun(state, images, key)"
   ]
  },
  {
   "cell_type": "code",
   "execution_count": null,
   "metadata": {
    "id": "Hz89m9Gljyaq"
   },
   "outputs": [],
   "source": [
    "data = tfds.load(\"cifar10\", split=\"train\")\n",
    "batch_size = 64\n",
    "data = (\n",
    "    data.map(lambda x: x[\"image\"] / 255)\n",
    "    .repeat()\n",
    "    .take(2 ** 14)\n",
    "    .shuffle(1024)\n",
    "    .batch(batch_size)\n",
    ")\n",
    "\n",
    "rngkey, rnginit = jax.random.split(jax.random.PRNGKey(42))\n",
    "trainer = setup_models()\n",
    "num_devices = jax.device_count()\n",
    "state = initialize_params(rnginit, trainer, 1)\n",
    "state = jax.tree_util.tree_map(lambda x: jnp.stack([x] * num_devices), state)\n",
    "\n",
    "for epoch in range(10):\n",
    "    for images in tqdm(data.as_numpy_iterator(), total=2 ** 14 // batch_size):\n",
    "        pimages = images.reshape((jax.device_count(), -1, *images.shape[1:]))\n",
    "        #rngkey, rngdisc, rnggen = jax.random.split(rngkey, num=3)\n",
    "        rng = jax.random.split(rngkey, num=num_devices)\n",
    "        loss = jax.pmap(discriminator_loss)(trainer.model, rngkey, state.model, images)\n",
    "      \n",
    "        #step_fn = ft.partial(generator_step, trainer, state, rnggen)\n",
    "        #disc_loss, state = jax.pmap(step_fn)(images)\n",
    "\n",
    "        #print(f\"gen_loss={gen_loss}, disc_loss={disc_loss}\")\n",
    "        print(loss)\n"
   ]
  }
 ],
 "metadata": {
  "accelerator": "TPU",
  "colab": {
   "authorship_tag": "ABX9TyNMtnxfJF4ABlc4PIotDvVe",
   "include_colab_link": true,
   "name": "Train Example.ipynb",
   "private_outputs": true,
   "provenance": []
  },
  "kernelspec": {
   "display_name": "stylegan2.jax",
   "language": "python",
   "name": "stylegan2.jax"
  },
  "language_info": {
   "codemirror_mode": {
    "name": "ipython",
    "version": 3
   },
   "file_extension": ".py",
   "mimetype": "text/x-python",
   "name": "python",
   "nbconvert_exporter": "python",
   "pygments_lexer": "ipython3",
   "version": "3.8.7"
  },
  "varInspector": {
   "cols": {
    "lenName": 16,
    "lenType": 16,
    "lenVar": 40
   },
   "kernels_config": {
    "python": {
     "delete_cmd_postfix": "",
     "delete_cmd_prefix": "del ",
     "library": "var_list.py",
     "varRefreshCmd": "print(var_dic_list())"
    },
    "r": {
     "delete_cmd_postfix": ") ",
     "delete_cmd_prefix": "rm(",
     "library": "var_list.r",
     "varRefreshCmd": "cat(var_dic_list()) "
    }
   },
   "types_to_exclude": [
    "module",
    "function",
    "builtin_function_or_method",
    "instance",
    "_Feature"
   ],
   "window_display": false
  }
 },
 "nbformat": 4,
 "nbformat_minor": 4
}
